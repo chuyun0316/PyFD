{
 "cells": [
  {
   "cell_type": "code",
   "execution_count": 18,
   "metadata": {
    "code_folding": [
     4
    ]
   },
   "outputs": [
    {
     "name": "stdout",
     "output_type": "stream",
     "text": [
      "Solver 0 finished!\n"
     ]
    }
   ],
   "source": [
    "import pythoncom, win32com.client as client\n",
    "from collections.abc import Iterable\n",
    "\n",
    "#Initialize the connection\n",
    "class FdEventHandler:\n",
    "    \n",
    "    calculating = True\n",
    "    \n",
    "    def OnSolverEnd(self,solvertype):\n",
    "        print(\"Solver {0} finished!\".format(solvertype))\n",
    "        FdEventHandler.calculating = False\n",
    "\n",
    "\n",
    "connector = client.DispatchWithEvents(\"AklModeler.CommandControl\",FdEventHandler)\n",
    "\n",
    "class FD:\n",
    "    \n",
    "    #Basic functions\n",
    "    def Execute(command):\n",
    "        connector.SendInstruction(command)\n",
    "\n",
    "        \n",
    "    def trigger_solver(wait_until_done = True):\n",
    "\n",
    "        FdEventHandler.calculating = True\n",
    "        Execute(\"menu analysis forward\")\n",
    "\n",
    "        if wait_until_done:\n",
    "            while FdEventHandler.calculating:\n",
    "                pythoncom.PumpWaitingMessages()\n",
    "        \n",
    "        \n",
    "    #loop functions\n",
    "    def trigger_solver(wait_until_done = True):\n",
    "\n",
    "        FdEventHandler.calculating = True\n",
    "        Execute(\"menu analysis forward\")\n",
    "\n",
    "        if wait_until_done:\n",
    "            while FdEventHandler.calculating:\n",
    "                pythoncom.PumpWaitingMessages()\n",
    "\n",
    "\n",
    "    def preprocess():\n",
    "        #empty preprocess\n",
    "        return None\n",
    "\n",
    "\n",
    "    def postprocess():\n",
    "        #empty preprocess\n",
    "        return False\n",
    "\n",
    "\n",
    "    def loop_start(iter_count = None):\n",
    "\n",
    "        goon = True\n",
    "        counter = 0\n",
    "\n",
    "        while goon:\n",
    "            FD.preprocess()\n",
    "            trigger_solver()\n",
    "            counter += 1\n",
    "\n",
    "            if iter_count is None:\n",
    "                goon = FD.postprocess()\n",
    "            else:\n",
    "                goon = FD.postprocess() and counter < iter_count\n",
    "                \n",
    "            print('iteration {} done'.format(counter))\n",
    "                \n",
    "\n",
    "    #Other functions (in progressing)\n",
    "    def SelectObj(index=None):\n",
    "\n",
    "        Execute(\"obj unselect all\")\n",
    "\n",
    "        re_val = None\n",
    "\n",
    "        if index is None:\n",
    "            re_val = Execute(\"obj select all\")\n",
    "\n",
    "        elif isinstance(index, Iterable):\n",
    "            re_val = []\n",
    "            for i in index:\n",
    "                _i = int(i)\n",
    "                command = \"obj select {}\".format(_i)\n",
    "                re_val.append(Execute(command))\n",
    "\n",
    "        else:\n",
    "            re_val = Execute(\"obj select {}\".format(int(index)))\n",
    "\n",
    "        return re_val\n",
    "\n",
    "\n",
    "    def UnselectObj(index=None):\n",
    "\n",
    "        re_val = None\n",
    "\n",
    "        if index is None:\n",
    "            re_val = Execute(\"obj unselect all\")\n",
    "\n",
    "        elif isinstance(index, Iterable):\n",
    "            re_val = []\n",
    "            for i in index:\n",
    "                _i = int(i)\n",
    "                command = \"obj unselect {}\".format(_i)\n",
    "                re_val.append(Execute(command))\n",
    "\n",
    "        else:\n",
    "            re_val = Execute(\"obj unselect {}\".format(int(index)))\n",
    "\n",
    "        return re_val\n",
    "    "
   ]
  },
  {
   "cell_type": "code",
   "execution_count": 16,
   "metadata": {},
   "outputs": [
    {
     "name": "stdout",
     "output_type": "stream",
     "text": [
      "pre 2019-12-18 10:21:25.624239\n",
      "post 2019-12-18 10:21:25.624239\n"
     ]
    },
    {
     "data": {
      "text/plain": [
       "(True, True)"
      ]
     },
     "execution_count": 16,
     "metadata": {},
     "output_type": "execute_result"
    }
   ],
   "source": [
    "from datetime import datetime\n",
    "\n",
    "def pre_get_time():\n",
    "    print(\"pre\", datetime.now())\n",
    "    return True\n",
    "\n",
    "def post_get_time():\n",
    "    print(\"post\", datetime.now())\n",
    "    return True\n",
    "\n",
    "pre_get_time(), post_get_time()"
   ]
  },
  {
   "cell_type": "code",
   "execution_count": 17,
   "metadata": {},
   "outputs": [
    {
     "name": "stdout",
     "output_type": "stream",
     "text": [
      "Solver 0 finished!\n",
      "Solver 0 finished!\n",
      "post 2019-12-18 10:21:48.293312\n",
      "iteration 0 done\n",
      "Solver 0 finished!\n",
      "post 2019-12-18 10:21:54.805065\n",
      "iteration 1 done\n",
      "Solver 0 finished!\n",
      "post 2019-12-18 10:21:56.647829\n",
      "iteration 2 done\n",
      "Solver 0 finished!\n",
      "post 2019-12-18 10:22:07.386622\n",
      "iteration 3 done\n",
      "Solver 0 finished!\n",
      "post 2019-12-18 10:22:09.294632\n",
      "iteration 4 done\n",
      "Solver 0 finished!\n",
      "post 2019-12-18 10:22:20.943405\n",
      "iteration 5 done\n"
     ]
    }
   ],
   "source": [
    "FD.preprocesse = pre_get_time\n",
    "FD.postprocess = post_get_time\n",
    "\n",
    "FD.loop_start(5)"
   ]
  },
  {
   "cell_type": "code",
   "execution_count": null,
   "metadata": {},
   "outputs": [],
   "source": []
  }
 ],
 "metadata": {
  "kernelspec": {
   "display_name": "Python 3",
   "language": "python",
   "name": "python3"
  },
  "language_info": {
   "codemirror_mode": {
    "name": "ipython",
    "version": 3
   },
   "file_extension": ".py",
   "mimetype": "text/x-python",
   "name": "python",
   "nbconvert_exporter": "python",
   "pygments_lexer": "ipython3",
   "version": "3.7.5"
  }
 },
 "nbformat": 4,
 "nbformat_minor": 2
}
